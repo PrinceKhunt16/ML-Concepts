{
 "cells": [
  {
   "cell_type": "code",
   "execution_count": 1,
   "id": "e4ff405d-5e81-4866-a856-77064e6810da",
   "metadata": {},
   "outputs": [],
   "source": [
    "import numpy as np\n",
    "import pandas as pd"
   ]
  },
  {
   "cell_type": "code",
   "execution_count": 3,
   "id": "09402844-3f6e-454e-b5f5-ab28e3953e91",
   "metadata": {},
   "outputs": [],
   "source": [
    "from sklearn.impute import SimpleImputer\n",
    "from sklearn.preprocessing import OneHotEncoder\n",
    "from sklearn.preprocessing import OrdinalEncoder"
   ]
  },
  {
   "cell_type": "code",
   "execution_count": 4,
   "id": "c9c33b7d-4181-424e-bf6f-50875d46b891",
   "metadata": {},
   "outputs": [],
   "source": [
    "df = pd.read_csv('CovidToy.csv')"
   ]
  },
  {
   "cell_type": "code",
   "execution_count": 5,
   "id": "fccab950-5876-4742-abfa-889ff25948c7",
   "metadata": {},
   "outputs": [
    {
     "data": {
      "text/html": [
       "<div>\n",
       "<style scoped>\n",
       "    .dataframe tbody tr th:only-of-type {\n",
       "        vertical-align: middle;\n",
       "    }\n",
       "\n",
       "    .dataframe tbody tr th {\n",
       "        vertical-align: top;\n",
       "    }\n",
       "\n",
       "    .dataframe thead th {\n",
       "        text-align: right;\n",
       "    }\n",
       "</style>\n",
       "<table border=\"1\" class=\"dataframe\">\n",
       "  <thead>\n",
       "    <tr style=\"text-align: right;\">\n",
       "      <th></th>\n",
       "      <th>age</th>\n",
       "      <th>gender</th>\n",
       "      <th>fever</th>\n",
       "      <th>cough</th>\n",
       "      <th>city</th>\n",
       "      <th>has_covid</th>\n",
       "    </tr>\n",
       "  </thead>\n",
       "  <tbody>\n",
       "    <tr>\n",
       "      <th>0</th>\n",
       "      <td>60</td>\n",
       "      <td>Male</td>\n",
       "      <td>103.0</td>\n",
       "      <td>Mild</td>\n",
       "      <td>Kolkata</td>\n",
       "      <td>No</td>\n",
       "    </tr>\n",
       "    <tr>\n",
       "      <th>1</th>\n",
       "      <td>27</td>\n",
       "      <td>Male</td>\n",
       "      <td>100.0</td>\n",
       "      <td>Mild</td>\n",
       "      <td>Delhi</td>\n",
       "      <td>Yes</td>\n",
       "    </tr>\n",
       "    <tr>\n",
       "      <th>2</th>\n",
       "      <td>42</td>\n",
       "      <td>Male</td>\n",
       "      <td>101.0</td>\n",
       "      <td>Mild</td>\n",
       "      <td>Delhi</td>\n",
       "      <td>No</td>\n",
       "    </tr>\n",
       "    <tr>\n",
       "      <th>3</th>\n",
       "      <td>31</td>\n",
       "      <td>Female</td>\n",
       "      <td>98.0</td>\n",
       "      <td>Mild</td>\n",
       "      <td>Kolkata</td>\n",
       "      <td>No</td>\n",
       "    </tr>\n",
       "    <tr>\n",
       "      <th>4</th>\n",
       "      <td>65</td>\n",
       "      <td>Female</td>\n",
       "      <td>101.0</td>\n",
       "      <td>Mild</td>\n",
       "      <td>Mumbai</td>\n",
       "      <td>No</td>\n",
       "    </tr>\n",
       "    <tr>\n",
       "      <th>...</th>\n",
       "      <td>...</td>\n",
       "      <td>...</td>\n",
       "      <td>...</td>\n",
       "      <td>...</td>\n",
       "      <td>...</td>\n",
       "      <td>...</td>\n",
       "    </tr>\n",
       "    <tr>\n",
       "      <th>95</th>\n",
       "      <td>12</td>\n",
       "      <td>Female</td>\n",
       "      <td>104.0</td>\n",
       "      <td>Mild</td>\n",
       "      <td>Bangalore</td>\n",
       "      <td>No</td>\n",
       "    </tr>\n",
       "    <tr>\n",
       "      <th>96</th>\n",
       "      <td>51</td>\n",
       "      <td>Female</td>\n",
       "      <td>101.0</td>\n",
       "      <td>Strong</td>\n",
       "      <td>Kolkata</td>\n",
       "      <td>Yes</td>\n",
       "    </tr>\n",
       "    <tr>\n",
       "      <th>97</th>\n",
       "      <td>20</td>\n",
       "      <td>Female</td>\n",
       "      <td>101.0</td>\n",
       "      <td>Mild</td>\n",
       "      <td>Bangalore</td>\n",
       "      <td>No</td>\n",
       "    </tr>\n",
       "    <tr>\n",
       "      <th>98</th>\n",
       "      <td>5</td>\n",
       "      <td>Female</td>\n",
       "      <td>98.0</td>\n",
       "      <td>Strong</td>\n",
       "      <td>Mumbai</td>\n",
       "      <td>No</td>\n",
       "    </tr>\n",
       "    <tr>\n",
       "      <th>99</th>\n",
       "      <td>10</td>\n",
       "      <td>Female</td>\n",
       "      <td>98.0</td>\n",
       "      <td>Strong</td>\n",
       "      <td>Kolkata</td>\n",
       "      <td>Yes</td>\n",
       "    </tr>\n",
       "  </tbody>\n",
       "</table>\n",
       "<p>100 rows × 6 columns</p>\n",
       "</div>"
      ],
      "text/plain": [
       "    age  gender  fever   cough       city has_covid\n",
       "0    60    Male  103.0    Mild    Kolkata        No\n",
       "1    27    Male  100.0    Mild      Delhi       Yes\n",
       "2    42    Male  101.0    Mild      Delhi        No\n",
       "3    31  Female   98.0    Mild    Kolkata        No\n",
       "4    65  Female  101.0    Mild     Mumbai        No\n",
       "..  ...     ...    ...     ...        ...       ...\n",
       "95   12  Female  104.0    Mild  Bangalore        No\n",
       "96   51  Female  101.0  Strong    Kolkata       Yes\n",
       "97   20  Female  101.0    Mild  Bangalore        No\n",
       "98    5  Female   98.0  Strong     Mumbai        No\n",
       "99   10  Female   98.0  Strong    Kolkata       Yes\n",
       "\n",
       "[100 rows x 6 columns]"
      ]
     },
     "execution_count": 5,
     "metadata": {},
     "output_type": "execute_result"
    }
   ],
   "source": [
    "df"
   ]
  },
  {
   "cell_type": "code",
   "execution_count": 6,
   "id": "8604ee9b-1f1a-48df-b3f4-8e08efd1130c",
   "metadata": {},
   "outputs": [
    {
     "data": {
      "text/plain": [
       "age           0\n",
       "gender        0\n",
       "fever        10\n",
       "cough         0\n",
       "city          0\n",
       "has_covid     0\n",
       "dtype: int64"
      ]
     },
     "execution_count": 6,
     "metadata": {},
     "output_type": "execute_result"
    }
   ],
   "source": [
    "df.isnull().sum()"
   ]
  },
  {
   "cell_type": "code",
   "execution_count": 7,
   "id": "1b625c92-958d-4f0b-8f19-41f9b33c8f72",
   "metadata": {},
   "outputs": [],
   "source": [
    "from sklearn.model_selection import train_test_split\n",
    "X_train,X_test,y_train,y_test = train_test_split(df.drop(columns=['has_covid']),df['has_covid'], test_size=0.2)"
   ]
  },
  {
   "cell_type": "code",
   "execution_count": 9,
   "id": "62ea2ba6-c023-4bf6-bb3d-3a2a118ee075",
   "metadata": {},
   "outputs": [
    {
     "data": {
      "text/html": [
       "<div>\n",
       "<style scoped>\n",
       "    .dataframe tbody tr th:only-of-type {\n",
       "        vertical-align: middle;\n",
       "    }\n",
       "\n",
       "    .dataframe tbody tr th {\n",
       "        vertical-align: top;\n",
       "    }\n",
       "\n",
       "    .dataframe thead th {\n",
       "        text-align: right;\n",
       "    }\n",
       "</style>\n",
       "<table border=\"1\" class=\"dataframe\">\n",
       "  <thead>\n",
       "    <tr style=\"text-align: right;\">\n",
       "      <th></th>\n",
       "      <th>age</th>\n",
       "      <th>gender</th>\n",
       "      <th>fever</th>\n",
       "      <th>cough</th>\n",
       "      <th>city</th>\n",
       "    </tr>\n",
       "  </thead>\n",
       "  <tbody>\n",
       "    <tr>\n",
       "      <th>96</th>\n",
       "      <td>51</td>\n",
       "      <td>Female</td>\n",
       "      <td>101.0</td>\n",
       "      <td>Strong</td>\n",
       "      <td>Kolkata</td>\n",
       "    </tr>\n",
       "    <tr>\n",
       "      <th>63</th>\n",
       "      <td>10</td>\n",
       "      <td>Male</td>\n",
       "      <td>100.0</td>\n",
       "      <td>Mild</td>\n",
       "      <td>Bangalore</td>\n",
       "    </tr>\n",
       "    <tr>\n",
       "      <th>84</th>\n",
       "      <td>69</td>\n",
       "      <td>Female</td>\n",
       "      <td>98.0</td>\n",
       "      <td>Strong</td>\n",
       "      <td>Mumbai</td>\n",
       "    </tr>\n",
       "    <tr>\n",
       "      <th>64</th>\n",
       "      <td>42</td>\n",
       "      <td>Male</td>\n",
       "      <td>104.0</td>\n",
       "      <td>Mild</td>\n",
       "      <td>Mumbai</td>\n",
       "    </tr>\n",
       "    <tr>\n",
       "      <th>56</th>\n",
       "      <td>71</td>\n",
       "      <td>Male</td>\n",
       "      <td>NaN</td>\n",
       "      <td>Strong</td>\n",
       "      <td>Kolkata</td>\n",
       "    </tr>\n",
       "    <tr>\n",
       "      <th>...</th>\n",
       "      <td>...</td>\n",
       "      <td>...</td>\n",
       "      <td>...</td>\n",
       "      <td>...</td>\n",
       "      <td>...</td>\n",
       "    </tr>\n",
       "    <tr>\n",
       "      <th>3</th>\n",
       "      <td>31</td>\n",
       "      <td>Female</td>\n",
       "      <td>98.0</td>\n",
       "      <td>Mild</td>\n",
       "      <td>Kolkata</td>\n",
       "    </tr>\n",
       "    <tr>\n",
       "      <th>20</th>\n",
       "      <td>12</td>\n",
       "      <td>Male</td>\n",
       "      <td>98.0</td>\n",
       "      <td>Strong</td>\n",
       "      <td>Bangalore</td>\n",
       "    </tr>\n",
       "    <tr>\n",
       "      <th>9</th>\n",
       "      <td>64</td>\n",
       "      <td>Female</td>\n",
       "      <td>101.0</td>\n",
       "      <td>Mild</td>\n",
       "      <td>Delhi</td>\n",
       "    </tr>\n",
       "    <tr>\n",
       "      <th>16</th>\n",
       "      <td>69</td>\n",
       "      <td>Female</td>\n",
       "      <td>103.0</td>\n",
       "      <td>Mild</td>\n",
       "      <td>Kolkata</td>\n",
       "    </tr>\n",
       "    <tr>\n",
       "      <th>40</th>\n",
       "      <td>49</td>\n",
       "      <td>Female</td>\n",
       "      <td>102.0</td>\n",
       "      <td>Mild</td>\n",
       "      <td>Delhi</td>\n",
       "    </tr>\n",
       "  </tbody>\n",
       "</table>\n",
       "<p>80 rows × 5 columns</p>\n",
       "</div>"
      ],
      "text/plain": [
       "    age  gender  fever   cough       city\n",
       "96   51  Female  101.0  Strong    Kolkata\n",
       "63   10    Male  100.0    Mild  Bangalore\n",
       "84   69  Female   98.0  Strong     Mumbai\n",
       "64   42    Male  104.0    Mild     Mumbai\n",
       "56   71    Male    NaN  Strong    Kolkata\n",
       "..  ...     ...    ...     ...        ...\n",
       "3    31  Female   98.0    Mild    Kolkata\n",
       "20   12    Male   98.0  Strong  Bangalore\n",
       "9    64  Female  101.0    Mild      Delhi\n",
       "16   69  Female  103.0    Mild    Kolkata\n",
       "40   49  Female  102.0    Mild      Delhi\n",
       "\n",
       "[80 rows x 5 columns]"
      ]
     },
     "execution_count": 9,
     "metadata": {},
     "output_type": "execute_result"
    }
   ],
   "source": [
    "X_train"
   ]
  },
  {
   "cell_type": "markdown",
   "id": "8991614c-6d90-4fdb-9f87-edb72fd18ff2",
   "metadata": {},
   "source": [
    "### Hactic"
   ]
  },
  {
   "cell_type": "code",
   "execution_count": 14,
   "id": "580a9a30-fad2-4e83-8a8d-748a40bca6b9",
   "metadata": {},
   "outputs": [
    {
     "data": {
      "text/plain": [
       "(80, 1)"
      ]
     },
     "execution_count": 14,
     "metadata": {},
     "output_type": "execute_result"
    }
   ],
   "source": [
    "# Adding simple imputer to fever col.\n",
    "si = SimpleImputer()\n",
    "X_train_fever = si.fit_transform(X_train[['fever']])\n",
    "\n",
    "# Also the test data.\n",
    "X_test_fever = si.fit_transform(X_test[['fever']])                  \n",
    "X_train_fever.shape"
   ]
  },
  {
   "cell_type": "code",
   "execution_count": 16,
   "id": "d6ab7d06-1d79-40d6-8ec9-aaaaceb8cb1f",
   "metadata": {},
   "outputs": [
    {
     "data": {
      "text/plain": [
       "(80, 1)"
      ]
     },
     "execution_count": 16,
     "metadata": {},
     "output_type": "execute_result"
    }
   ],
   "source": [
    "# Ordinalencoding to Cough\n",
    "oe = OrdinalEncoder(categories=[['Mild','Strong']])\n",
    "X_train_cough = oe.fit_transform(X_train[['cough']])\n",
    "\n",
    "# Also the test data.\n",
    "X_test_cough = oe.fit_transform(X_test[['cough']])\n",
    "X_train_cough.shape"
   ]
  },
  {
   "cell_type": "code",
   "execution_count": 19,
   "id": "1db2dec7-4855-4807-ac01-521d1c2becd1",
   "metadata": {},
   "outputs": [
    {
     "data": {
      "text/plain": [
       "(80, 4)"
      ]
     },
     "execution_count": 19,
     "metadata": {},
     "output_type": "execute_result"
    }
   ],
   "source": [
    "# OneHotEncoding to Gender, City\n",
    "ohe = OneHotEncoder(drop='first', sparse_output=False)\n",
    "X_train_gender_city = ohe.fit_transform(X_train[['gender','city']])\n",
    "\n",
    "# Also the test data.\n",
    "X_test_gender_city = ohe.fit_transform(X_test[['gender','city']])\n",
    "X_train_gender_city.shape"
   ]
  },
  {
   "cell_type": "code",
   "execution_count": 20,
   "id": "d726cf25-ad26-4864-91f2-eb0e1a9f30dd",
   "metadata": {},
   "outputs": [
    {
     "data": {
      "text/plain": [
       "(80, 1)"
      ]
     },
     "execution_count": 20,
     "metadata": {},
     "output_type": "execute_result"
    }
   ],
   "source": [
    "# Extracting Age.\n",
    "X_train_age = X_train.drop(columns=['gender','fever','cough','city']).values\n",
    "\n",
    "# Also the test data.\n",
    "X_test_age = X_test.drop(columns=['gender','fever','cough','city']).values\n",
    "X_train_age.shape"
   ]
  },
  {
   "cell_type": "code",
   "execution_count": 21,
   "id": "f7bd2301-7bad-4ebd-a648-ead3ccf1cf32",
   "metadata": {},
   "outputs": [
    {
     "data": {
      "text/plain": [
       "(80, 7)"
      ]
     },
     "execution_count": 21,
     "metadata": {},
     "output_type": "execute_result"
    }
   ],
   "source": [
    "X_train_transformed = np.concatenate((X_train_age,X_train_fever,X_train_gender_city,X_train_cough),axis=1)\n",
    "\n",
    "# Also the test data.\n",
    "X_test_transformed = np.concatenate((X_test_age,X_test_fever,X_test_gender_city,X_test_cough),axis=1)\n",
    "X_train_transformed.shape"
   ]
  },
  {
   "cell_type": "markdown",
   "id": "553233aa-e374-4803-9a39-42c44c32c760",
   "metadata": {},
   "source": [
    "### Fast"
   ]
  },
  {
   "cell_type": "code",
   "execution_count": 22,
   "id": "031de921-8bfa-41bf-a2f7-d5c64b720566",
   "metadata": {},
   "outputs": [],
   "source": [
    "from sklearn.compose import ColumnTransformer"
   ]
  },
  {
   "cell_type": "code",
   "execution_count": 23,
   "id": "d6bf4cd8-1bed-4089-8089-ae3db9de924c",
   "metadata": {},
   "outputs": [],
   "source": [
    "transformer = ColumnTransformer(transformers=[\n",
    "    ('tnf1',SimpleImputer(),['fever']),\n",
    "    ('tnf2',OrdinalEncoder(categories=[['Mild','Strong']]),['cough']),\n",
    "    ('tnf3',OneHotEncoder(sparse_output=False,drop='first'),['gender','city'])\n",
    "], remainder='passthrough')"
   ]
  },
  {
   "cell_type": "code",
   "execution_count": 24,
   "id": "d09f46d6-9e43-4eb2-be48-de8c516327ff",
   "metadata": {},
   "outputs": [
    {
     "data": {
      "text/plain": [
       "(80, 7)"
      ]
     },
     "execution_count": 24,
     "metadata": {},
     "output_type": "execute_result"
    }
   ],
   "source": [
    "transformer.fit_transform(X_train).shape"
   ]
  },
  {
   "cell_type": "code",
   "execution_count": 25,
   "id": "24b6e704-3a22-4c5a-a0ad-8f3e85dfd1ce",
   "metadata": {},
   "outputs": [
    {
     "data": {
      "text/plain": [
       "(20, 7)"
      ]
     },
     "execution_count": 25,
     "metadata": {},
     "output_type": "execute_result"
    }
   ],
   "source": [
    "transformer.fit_transform(X_test).shape"
   ]
  },
  {
   "cell_type": "code",
   "execution_count": 31,
   "id": "d408404d-1ca6-4aa3-b1e3-1e3ed12a31b8",
   "metadata": {},
   "outputs": [
    {
     "data": {
      "text/plain": [
       "array([[101. ,   1. ,   0. ,   0. ,   1. ,   0. ,  51. ],\n",
       "       [100. ,   0. ,   1. ,   0. ,   0. ,   0. ,  10. ],\n",
       "       [ 98. ,   1. ,   0. ,   0. ,   0. ,   1. ,  69. ],\n",
       "       [104. ,   0. ,   1. ,   0. ,   0. ,   1. ,  42. ],\n",
       "       [100.8,   1. ,   1. ,   0. ,   1. ,   0. ,  71. ],\n",
       "       [ 99. ,   0. ,   0. ,   0. ,   0. ,   1. ,  60. ],\n",
       "       [ 98. ,   0. ,   1. ,   0. ,   1. ,   0. ,  24. ],\n",
       "       [104. ,   1. ,   0. ,   0. ,   1. ,   0. ,  54. ],\n",
       "       [104. ,   0. ,   0. ,   0. ,   0. ,   0. ,  18. ],\n",
       "       [ 98. ,   0. ,   0. ,   0. ,   0. ,   1. ,  65. ],\n",
       "       [104. ,   1. ,   0. ,   1. ,   0. ,   0. ,  34. ],\n",
       "       [ 98. ,   0. ,   0. ,   0. ,   1. ,   0. ,  26. ],\n",
       "       [100.8,   1. ,   0. ,   0. ,   0. ,   0. ,  42. ],\n",
       "       [103. ,   0. ,   0. ,   1. ,   0. ,   0. ,  73. ],\n",
       "       [ 99. ,   0. ,   0. ,   0. ,   0. ,   0. ,  22. ],\n",
       "       [104. ,   1. ,   0. ,   1. ,   0. ,   0. ,  75. ],\n",
       "       [101. ,   1. ,   0. ,   1. ,   0. ,   0. ,  68. ],\n",
       "       [104. ,   0. ,   1. ,   0. ,   1. ,   0. ,  51. ],\n",
       "       [101. ,   1. ,   0. ,   1. ,   0. ,   0. ,  34. ],\n",
       "       [100. ,   1. ,   0. ,   0. ,   1. ,   0. ,  13. ],\n",
       "       [102. ,   1. ,   0. ,   0. ,   0. ,   0. ,  24. ],\n",
       "       [102. ,   0. ,   0. ,   0. ,   0. ,   0. ,  69. ],\n",
       "       [ 98. ,   0. ,   0. ,   0. ,   0. ,   0. ,  64. ],\n",
       "       [100. ,   0. ,   1. ,   0. ,   0. ,   0. ,  11. ],\n",
       "       [103. ,   1. ,   1. ,   0. ,   1. ,   0. ,  70. ],\n",
       "       [104. ,   0. ,   1. ,   0. ,   1. ,   0. ,  16. ],\n",
       "       [103. ,   0. ,   0. ,   0. ,   1. ,   0. ,  50. ],\n",
       "       [100. ,   0. ,   0. ,   0. ,   1. ,   0. ,   5. ],\n",
       "       [ 99. ,   1. ,   0. ,   1. ,   0. ,   0. ,  59. ],\n",
       "       [ 99. ,   0. ,   1. ,   1. ,   0. ,   0. ,  65. ],\n",
       "       [104. ,   0. ,   1. ,   0. ,   0. ,   1. ,  44. ],\n",
       "       [104. ,   0. ,   1. ,   0. ,   0. ,   0. ,  25. ],\n",
       "       [ 98. ,   1. ,   1. ,   0. ,   1. ,   0. ,  34. ],\n",
       "       [104. ,   0. ,   0. ,   0. ,   1. ,   0. ,   6. ],\n",
       "       [101. ,   0. ,   0. ,   0. ,   0. ,   0. ,  38. ],\n",
       "       [100.8,   1. ,   0. ,   0. ,   0. ,   1. ,  34. ],\n",
       "       [100. ,   1. ,   0. ,   0. ,   1. ,   0. ,  11. ],\n",
       "       [101. ,   0. ,   0. ,   0. ,   0. ,   1. ,  81. ],\n",
       "       [104. ,   0. ,   1. ,   0. ,   0. ,   0. ,  51. ],\n",
       "       [101. ,   0. ,   0. ,   0. ,   1. ,   0. ,  83. ],\n",
       "       [ 98. ,   1. ,   0. ,   0. ,   1. ,   0. ,  71. ],\n",
       "       [100.8,   0. ,   1. ,   0. ,   1. ,   0. ,  82. ],\n",
       "       [ 98. ,   0. ,   0. ,   1. ,   0. ,   0. ,  80. ],\n",
       "       [100.8,   0. ,   1. ,   0. ,   0. ,   1. ,  23. ],\n",
       "       [100. ,   0. ,   1. ,   0. ,   1. ,   0. ,  55. ],\n",
       "       [101. ,   0. ,   1. ,   1. ,   0. ,   0. ,  42. ],\n",
       "       [ 98. ,   1. ,   0. ,   0. ,   0. ,   1. ,   5. ],\n",
       "       [ 98. ,   1. ,   0. ,   0. ,   1. ,   0. ,  10. ],\n",
       "       [ 99. ,   0. ,   0. ,   0. ,   0. ,   1. ,  14. ],\n",
       "       [101. ,   0. ,   1. ,   1. ,   0. ,   0. ,  19. ],\n",
       "       [102. ,   0. ,   1. ,   0. ,   0. ,   0. ,  64. ],\n",
       "       [100. ,   0. ,   1. ,   0. ,   1. ,   0. ,  27. ],\n",
       "       [100. ,   0. ,   1. ,   1. ,   0. ,   0. ,  27. ],\n",
       "       [100.8,   1. ,   1. ,   0. ,   1. ,   0. ,  79. ],\n",
       "       [100.8,   0. ,   0. ,   0. ,   0. ,   0. ,  84. ],\n",
       "       [104. ,   1. ,   0. ,   0. ,   0. ,   0. ,  56. ],\n",
       "       [103. ,   0. ,   0. ,   0. ,   0. ,   0. ,  16. ],\n",
       "       [100. ,   1. ,   0. ,   0. ,   0. ,   0. ,  19. ],\n",
       "       [ 98. ,   0. ,   1. ,   0. ,   0. ,   0. ,  73. ],\n",
       "       [101. ,   0. ,   1. ,   1. ,   0. ,   0. ,  15. ],\n",
       "       [ 99. ,   0. ,   1. ,   0. ,   0. ,   0. ,  65. ],\n",
       "       [103. ,   0. ,   0. ,   0. ,   1. ,   0. ,  48. ],\n",
       "       [ 99. ,   1. ,   0. ,   0. ,   0. ,   0. ,  49. ],\n",
       "       [101. ,   1. ,   1. ,   0. ,   0. ,   0. ,  14. ],\n",
       "       [100. ,   1. ,   0. ,   0. ,   0. ,   0. ,  47. ],\n",
       "       [100. ,   0. ,   1. ,   0. ,   0. ,   0. ,  80. ],\n",
       "       [100.8,   0. ,   1. ,   1. ,   0. ,   0. ,  38. ],\n",
       "       [101. ,   0. ,   0. ,   0. ,   0. ,   1. ,  19. ],\n",
       "       [100. ,   0. ,   0. ,   0. ,   1. ,   0. ,  19. ],\n",
       "       [101. ,   1. ,   1. ,   0. ,   0. ,   0. ,  47. ],\n",
       "       [101. ,   0. ,   0. ,   0. ,   0. ,   0. ,  20. ],\n",
       "       [ 99. ,   1. ,   1. ,   0. ,   0. ,   0. ,  66. ],\n",
       "       [100.8,   0. ,   0. ,   1. ,   0. ,   0. ,  75. ],\n",
       "       [102. ,   1. ,   0. ,   0. ,   0. ,   0. ,  82. ],\n",
       "       [100.8,   1. ,   0. ,   0. ,   0. ,   1. ,  20. ],\n",
       "       [ 98. ,   0. ,   0. ,   0. ,   1. ,   0. ,  31. ],\n",
       "       [ 98. ,   1. ,   1. ,   0. ,   0. ,   0. ,  12. ],\n",
       "       [101. ,   0. ,   0. ,   1. ,   0. ,   0. ,  64. ],\n",
       "       [103. ,   0. ,   0. ,   0. ,   1. ,   0. ,  69. ],\n",
       "       [102. ,   0. ,   0. ,   1. ,   0. ,   0. ,  49. ]])"
      ]
     },
     "execution_count": 31,
     "metadata": {},
     "output_type": "execute_result"
    }
   ],
   "source": [
    "transformer.fit_transform(X_train)"
   ]
  },
  {
   "cell_type": "code",
   "execution_count": 30,
   "id": "25daa361-c0f5-4579-a0c0-8ff5337e8fc2",
   "metadata": {},
   "outputs": [
    {
     "data": {
      "text/plain": [
       "array([[100.,   0.,   1.,   1.,   0.,   0.,  27.],\n",
       "       [104.,   0.,   0.,   0.,   0.,   0.,  12.],\n",
       "       [ 98.,   1.,   0.,   0.,   0.,   1.,  81.],\n",
       "       [102.,   0.,   1.,   0.,   0.,   1.,  74.],\n",
       "       [102.,   1.,   1.,   1.,   0.,   0.,  20.],\n",
       "       [ 98.,   1.,   0.,   1.,   0.,   0.,  40.],\n",
       "       [102.,   1.,   0.,   1.,   0.,   0.,  33.],\n",
       "       [ 99.,   1.,   0.,   0.,   1.,   0.,  25.],\n",
       "       [103.,   0.,   1.,   0.,   1.,   0.,  83.],\n",
       "       [ 98.,   1.,   1.,   0.,   0.,   1.,  23.],\n",
       "       [102.,   1.,   0.,   0.,   1.,   0.,  82.],\n",
       "       [103.,   0.,   1.,   0.,   1.,   0.,  60.],\n",
       "       [101.,   0.,   0.,   1.,   0.,   0.,  49.],\n",
       "       [101.,   0.,   0.,   0.,   0.,   1.,  65.],\n",
       "       [101.,   0.,   0.,   0.,   1.,   0.,   8.],\n",
       "       [103.,   1.,   1.,   0.,   0.,   0.,  46.],\n",
       "       [ 99.,   0.,   1.,   0.,   0.,   0.,  72.],\n",
       "       [102.,   0.,   1.,   0.,   1.,   0.,   5.],\n",
       "       [ 98.,   0.,   1.,   1.,   0.,   0.,  83.],\n",
       "       [104.,   0.,   0.,   0.,   1.,   0.,  17.]])"
      ]
     },
     "execution_count": 30,
     "metadata": {},
     "output_type": "execute_result"
    }
   ],
   "source": [
    "transformer.fit_transform(X_test)"
   ]
  }
 ],
 "metadata": {
  "kernelspec": {
   "display_name": "Python 3 (ipykernel)",
   "language": "python",
   "name": "python3"
  },
  "language_info": {
   "codemirror_mode": {
    "name": "ipython",
    "version": 3
   },
   "file_extension": ".py",
   "mimetype": "text/x-python",
   "name": "python",
   "nbconvert_exporter": "python",
   "pygments_lexer": "ipython3",
   "version": "3.11.6"
  }
 },
 "nbformat": 4,
 "nbformat_minor": 5
}
