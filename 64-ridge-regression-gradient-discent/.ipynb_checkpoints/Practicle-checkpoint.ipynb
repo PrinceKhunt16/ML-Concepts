{
 "cells": [
  {
   "cell_type": "code",
   "execution_count": 1,
   "id": "d61b9d25-311b-4768-880c-5c4d7dc011c5",
   "metadata": {},
   "outputs": [],
   "source": [
    "from sklearn.datasets import load_diabetes\n",
    "from sklearn.metrics import r2_score\n",
    "import numpy as np\n",
    "X,y = load_diabetes(return_X_y=True)\n",
    "from sklearn.model_selection import train_test_split\n",
    "X_train,X_test,y_train,y_test = train_test_split(X,y,test_size=0.2,random_state=4)"
   ]
  },
  {
   "cell_type": "code",
   "execution_count": 2,
   "id": "9c6fca07-514c-434e-8db7-c69ca7679e3c",
   "metadata": {},
   "outputs": [
    {
     "name": "stdout",
     "output_type": "stream",
     "text": [
      "R2 score 0.3906089058849038\n",
      "[  46.48628127 -146.99959082  360.83304777  270.9289192    -3.06675889\n",
      "  -58.0284879  -165.28764191  134.94707827  328.38526138  100.82396557]\n",
      "[136.9070154]\n"
     ]
    }
   ],
   "source": [
    "from sklearn.linear_model import SGDRegressor\n",
    "reg = SGDRegressor(penalty='l2',max_iter=500,eta0=0.1,learning_rate='constant',alpha=0.001)\n",
    "reg.fit(X_train,y_train)\n",
    "y_pred = reg.predict(X_test)\n",
    "print(\"R2 score\",r2_score(y_test,y_pred))\n",
    "print(reg.coef_)\n",
    "print(reg.intercept_)"
   ]
  },
  {
   "cell_type": "code",
   "execution_count": 3,
   "id": "9db40b6c-b895-43e5-92d4-4c99a69f3cae",
   "metadata": {},
   "outputs": [],
   "source": [
    "from sklearn.linear_model import Ridge\n",
    "reg = Ridge(alpha=0.01, max_iter=500, solver='sparse_cg')"
   ]
  },
  {
   "cell_type": "code",
   "execution_count": 4,
   "id": "530803ca-9dd8-4d4b-b584-e8f43262df79",
   "metadata": {},
   "outputs": [
    {
     "name": "stdout",
     "output_type": "stream",
     "text": [
      "R2 score 0.4667136517536534\n",
      "[  38.87221474 -282.9989093   485.04798218  362.44102216 -419.23022028\n",
      "  168.11031368  -18.8434585   203.84317148  594.02688523   37.92314006] 150.93769241903283\n"
     ]
    }
   ],
   "source": [
    "reg.fit(X_train, y_train)\n",
    "y_pred = reg.predict(X_test)\n",
    "print('R2 score', r2_score(y_test, y_pred))\n",
    "print(reg.coef_, reg.intercept_)"
   ]
  },
  {
   "cell_type": "code",
   "execution_count": 5,
   "id": "7297cacd-fd1c-459a-b298-a126755f66bc",
   "metadata": {},
   "outputs": [],
   "source": [
    "class RidgeGD:\n",
    "    def __init__(self, epochs, learning_rate, alpha):\n",
    "        self.learning_rate = learning_rate\n",
    "        self.epochs = epochs\n",
    "        self.alpha = alpha\n",
    "        self.coef_ = None\n",
    "        self.intercept_ = None\n",
    "\n",
    "    def fit(self, X_train, y_train):\n",
    "        self.coef_ = np.ones(X_train.shape[1])\n",
    "        self.intercept_ = 0\n",
    "        thetha = np.insert(self.coef_, 0, self.intercept_)\n",
    "        X_train = np.insert(X_train, 0, 1, axis=1)\n",
    "\n",
    "        for i in range(self.epochs):\n",
    "            thetha_der = np.dot(X_train.T,X_train).dot(thetha) - np.dot(X_train.T,y_train) + self.alpha * thetha\n",
    "            thetha = thetha - self.learning_rate * thetha_der\n",
    "    \n",
    "        self.coef_ = thetha[1:]\n",
    "        self.intercept_ = thetha[0]\n",
    "    \n",
    "    def predict(self,X_test):\n",
    "        return np.dot(X_test,self.coef_) + self.intercept_"
   ]
  },
  {
   "cell_type": "code",
   "execution_count": 6,
   "id": "e7784b6e-0b5f-4882-b41d-c307708810c8",
   "metadata": {},
   "outputs": [],
   "source": [
    "reg = RidgeGD(epochs=500,alpha=0.001,learning_rate=0.005)"
   ]
  },
  {
   "cell_type": "code",
   "execution_count": 7,
   "id": "c994f89d-ffca-4a7a-bd37-7260b0982dbd",
   "metadata": {},
   "outputs": [
    {
     "name": "stdout",
     "output_type": "stream",
     "text": [
      "R2 score 0.47380182802609117\n",
      "[  46.65050914 -221.3750037   452.12080647  325.54248128  -29.09464178\n",
      "  -96.47517735 -190.90017011  146.32900372  400.80267299   95.09048094]\n",
      "150.86975316713463\n"
     ]
    }
   ],
   "source": [
    "reg.fit(X_train,y_train)\n",
    "y_pred = reg.predict(X_test)\n",
    "print(\"R2 score\",r2_score(y_test,y_pred))\n",
    "print(reg.coef_)\n",
    "print(reg.intercept_)"
   ]
  }
 ],
 "metadata": {
  "kernelspec": {
   "display_name": "Python 3 (ipykernel)",
   "language": "python",
   "name": "python3"
  },
  "language_info": {
   "codemirror_mode": {
    "name": "ipython",
    "version": 3
   },
   "file_extension": ".py",
   "mimetype": "text/x-python",
   "name": "python",
   "nbconvert_exporter": "python",
   "pygments_lexer": "ipython3",
   "version": "3.11.6"
  }
 },
 "nbformat": 4,
 "nbformat_minor": 5
}
